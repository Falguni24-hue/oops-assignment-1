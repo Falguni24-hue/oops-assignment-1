{
  "nbformat": 4,
  "nbformat_minor": 0,
  "metadata": {
    "colab": {
      "provenance": []
    },
    "kernelspec": {
      "name": "python3",
      "display_name": "Python 3"
    },
    "language_info": {
      "name": "python"
    }
  },
  "cells": [
    {
      "cell_type": "markdown",
      "source": [
        "# **oops Quesions**"
      ],
      "metadata": {
        "id": "6EVUjp5fkVob"
      }
    },
    {
      "cell_type": "markdown",
      "source": [
        "Q1 **What is Object-Oriented Programming (OOP)?**\n",
        "\n",
        "oops is programming style that uses classes and object to create reuseable code and model concepts.In \"oops\" ,objects are create from template called \"class\"\n",
        "which define the property and behavior of objects they create."
      ],
      "metadata": {
        "id": "doROwhr4ktCa"
      }
    },
    {
      "cell_type": "markdown",
      "source": [
        "Q2 **What is a class in OOP?**\n",
        "\n",
        "class is a template that defines the methods and variable for a specific type of object.An object is a specific instance of a class; it contains real values instead of variables. The class is one of the defining ideas of object-oriented programming."
      ],
      "metadata": {
        "id": "8RAj2fvym7wE"
      }
    },
    {
      "cell_type": "markdown",
      "source": [
        "Q3 **what is a object of class?**\n",
        "\n",
        "object is a instance of class ,which is blueprint for creating object.objects has the behavior of class and is realworld entity."
      ],
      "metadata": {
        "id": "5M9Kes-TVUbT"
      }
    },
    {
      "cell_type": "markdown",
      "source": [
        "Q4 **what is diffrence between abstraction and encapulation ?**\n",
        "\n",
        "**Abstraction** in pthon is hides implementation details to simplify complex system and make code easier to read It focuses on the essential features of object and provide high level view.\n",
        "\n",
        "\n",
        "**Encapulation** restrict direct access to object's data and methods to safeguard data intrigity.It bundles data and methods within a class and control their access."
      ],
      "metadata": {
        "id": "ABqS4sw7XisN"
      }
    },
    {
      "cell_type": "markdown",
      "source": [
        "Q5 **what are dunder method in python?**\n",
        "\n",
        "Dunder method is predefined method in python that have doubole underscore at the beginning and end of their name.These method provide a way to define specific behavior for built in operation or functionality in python.\n",
        "\n"
      ],
      "metadata": {
        "id": "lSTK0kCibE5y"
      }
    },
    {
      "cell_type": "markdown",
      "source": [
        "Q6 **Explain the concept of inheritance in oops?**\n",
        "\n",
        "Inheritance is fundamental concepts in oops that allows a class to  inherit the property and behavior from another class.It is  promotes code reuse and establish relationship between class."
      ],
      "metadata": {
        "id": "9VI2SSzHdDyb"
      }
    },
    {
      "cell_type": "markdown",
      "source": [
        "Q7 **what is polymorphism in oops?**\n",
        "\n",
        "polymorphism is ability of objects to take on different forms or behave in different ways depending on the context on which they are used.\n"
      ],
      "metadata": {
        "id": "Cny-VF7dfLKI"
      }
    },
    {
      "cell_type": "markdown",
      "source": [
        "Q8 **how is encapulation achieved in python??**\n",
        "\n",
        "In python encapulation is achieved by using access modifier to restrict access to a class's variable and method .\n",
        "\n",
        "**public** By default all the method and attribute in python class are public and can be accessed outside the class.\n",
        "\n",
        "**private** use the double underscores as a prefix to make an attribute private.This makes it difficult to outside the class.\n",
        "\n",
        "**Protected** use a single underscore as a prefix to indicate that an attribute is for internal use only within the class and its subclass.\n",
        "\n"
      ],
      "metadata": {
        "id": "ul45PNZhhTuD"
      }
    },
    {
      "cell_type": "markdown",
      "source": [
        "Q9 **what is a constructor in python??**\n",
        "\n",
        "Constructor is special class method for creating and initializing of class object instance at that class.Every python class has a constructor it's not initializing explicity.The purpose of constructor is to construct object and assign a value to the object's members.\n",
        "\n"
      ],
      "metadata": {
        "id": "oQE3Poc8khVf"
      }
    },
    {
      "cell_type": "markdown",
      "source": [
        "Q10 **what are the class and static methods in python?**\n",
        "\n",
        "class methods are attached to the class itself while static method is bind to the class but not class object.\n",
        "\n",
        "**class method** class method is bound to the class and can access and modify the class state.They are often used to perform actions related to class,such as creating alternative constructor.class methods called on class or on instance of the class ,but the instance is automatically passed as the first argument\n",
        "\n",
        "**static method** It is not bound to the class or instance of the class.They are usef for utility functions that are related to class but don't require to access class or instance attribute.\n"
      ],
      "metadata": {
        "id": "d_hrFkvymowT"
      }
    },
    {
      "cell_type": "markdown",
      "source": [
        "Q11 **what is method overloading in python??**\n",
        "\n",
        "Two or more method have same name but different numbers of parameters .These methods called overloaded.python does not support method overloading   "
      ],
      "metadata": {
        "id": "bbE6-SB9q7PZ"
      }
    },
    {
      "cell_type": "markdown",
      "source": [
        "Q12 **what is method overriding in python??**\n",
        "\n",
        "method overriding is fundametal concept in python that allows a subclass to provide its own implemetation of a method that is already defined in it's super class.This is done by defining a method in the subclass with the same name and method as the parameters as the method in superclass."
      ],
      "metadata": {
        "id": "5w4zWQGss0yL"
      }
    },
    {
      "cell_type": "markdown",
      "source": [
        "Q13 **what is a property decorator in python?**\n",
        "\n",
        "@property is a built in decorator for property() function in python .It is used to give special functionality to certain method to make them acts as getters,setters or deleters when we define properties in class.It allows to use class method to be accessed as attribute."
      ],
      "metadata": {
        "id": "3E_zfo7Cwl5a"
      }
    },
    {
      "cell_type": "markdown",
      "source": [
        "Q14 **what is polymorphim important in oops?**\n",
        "\n",
        "\n",
        "It allows object of different classes to be trated as a common superclass.\n",
        "\n",
        "\n",
        "**code reuseabilty:** It allows a same method or operation to work with different types.this leads to reuseability , as the same interface used across diffrent class and different behavior.\n",
        "\n",
        "**Maintability** : Polymorphism enhances maininablity by allowing modification to be made at high level without affecting other part of program.You can add new classes or change existing ones without altering the code interacts with them as long as interface remains same"
      ],
      "metadata": {
        "id": "VJMPTE_sDd49"
      }
    },
    {
      "cell_type": "markdown",
      "source": [
        "Q15 **what is an abstract class in python?**\n",
        "\n",
        "abstract class is a class that cannot be instiated directly and is typically used as a blueprint for other class .It can contain abstract methods,which are methods that are declared but contain no implementation.Subclass of an abstract class are required to implement these abstract method."
      ],
      "metadata": {
        "id": "WffqL14yXNuB"
      }
    },
    {
      "cell_type": "markdown",
      "source": [
        "Q16 **what are advantage of oops?**\n",
        "\n",
        "oops advantages\n",
        "**Modularity**: code is organised into small ,independent object ,making it easier to manage.\n",
        "\n",
        "**Reuseablity:** Inheritance allows the code to be reused across different parts of system or in new project.\n",
        "\n",
        "**Maintainability:** Modular system makes it easier to maintain and update the system.\n",
        "\n",
        "**Data security:** Encapultion protects object data from unthorised access.\n",
        "\n",
        "**Flexibility and Extensiblity** :oop allows easy modification and extension of system.\n",
        "\n",
        "**Improved code organisation**: code is organized to reflect real world entities,making it easier to understand.\n",
        "\n",
        "**collaboration**:Multiple developer can work on diffrent object simulanously.\n",
        "\n",
        "**code reuseablity**:Library and famework promoted reuse of well tested code.\n",
        "\n",
        "**scalability**: oop supports the growth of applications over time.\n"
      ],
      "metadata": {
        "id": "TqeqWPOxbwyo"
      }
    },
    {
      "cell_type": "markdown",
      "source": [
        "Q17 **What is difference between class variable and instance variable?**\n",
        "\n",
        "**class variable**: a class variable is a variable that is shared by all instance of a class .class variable is accessed through class itself or any instance of class.but changes to the class variable are reflected across all instances of that class.\n",
        "\n",
        "**Instance variable**:An instance variable is a  variable that is specific to each object of a class .Each object has its own copy of the instance variable .They are typically initialized inside the __init__ method using the self keyword ,which refers to the current instance.Each object has its own instance variables , which are not shared by other object.\n",
        "\n"
      ],
      "metadata": {
        "id": "66OWI3kKlkp0"
      }
    },
    {
      "cell_type": "markdown",
      "source": [
        "Q18 **what is multiple inheritance in python?**\n",
        "\n",
        "In a python refers to a feature where a class can inherit from more than class.This allows derived class to inherit attributes and methods from multiple base class.This can be useful when a class needs to combine functionality from different class promoting code reusablity and reducing redanduncy."
      ],
      "metadata": {
        "id": "eDOixP1Huega"
      }
    },
    {
      "cell_type": "markdown",
      "source": [
        "Q19 **Explain the purpose of \"__str__\"and __repr__ method in python?**\n",
        "\n",
        "The __str__ method is used to define a \"human-readable\" or \"informal\" string representation of an object.\n",
        "When it is used: It is called when you use the print() function or str() function on an object.\n",
        "\n",
        "he __repr__ method is used to define the \"official\" or \"formal\" string representation of an object. Ideally, this should return a string that could be used to recreate the object if passed to the eval() function (although this is not always practical).\n",
        "\n"
      ],
      "metadata": {
        "id": "IlacvAxa0AVS"
      }
    },
    {
      "cell_type": "markdown",
      "source": [
        "Q20 **what is significance of the super function in python?**\n",
        "\n",
        "he super() function in Python is used to call a method from a parent or superclass in a child or subclass. It allows the child class to access methods or attributes from its parent class, facilitating inheritance and method overriding in object-oriented programming (OOP)."
      ],
      "metadata": {
        "id": "JBikgE2x7Q2l"
      }
    },
    {
      "cell_type": "markdown",
      "source": [
        "Q21 **what is significant of del method in python??**\n",
        "\n",
        "\n",
        "The del statement in Python is a keyword that deletes objects, variables, lists, and parts of a list,Attributes of the class instances can be deleted.\n"
      ],
      "metadata": {
        "id": "sMN51cRA5tss"
      }
    },
    {
      "cell_type": "markdown",
      "source": [
        "Q 22**what is diffrence between static method and class method in python?**\n",
        "\n",
        "**@staticmethod** staticmethod does not take any first argument (like self,cls).It behaves like regular function but belong's to the class's namespace .It is defined using the @staticmethod decorator.\n",
        "\n",
        "**@classmethod** classmethod that takes the class itself as the first argument (usually named cls) instead of the (self).It is defined using the @clsssmethod decorator.It can be called on the class itself on an instance of the class,but it receives the class as the first argument rather than instance.class method is useful when you want to perform actions that affect the class ifself such as modifying class variables or creating factory methods.\n"
      ],
      "metadata": {
        "id": "5R2moU7o_c1n"
      }
    },
    {
      "cell_type": "markdown",
      "source": [
        "Q23 **How does polymorphism work in python with inheritance??**\n",
        "\n",
        "Polymorphism in python ,especilly when combined with inheritance ,refers to the ability of different classes to define same method ,but different behavior .This allows you to use same method name to invoke different implementaion depending on the object's type enabling code that can work diffrent type of object in unified way.\n",
        "\n",
        "polmorphism work with inherance in python is runtime method overriding in a subclasses.\n",
        "\n"
      ],
      "metadata": {
        "id": "hKMbaeZDGHkJ"
      }
    },
    {
      "cell_type": "markdown",
      "source": [
        "Q24 **what is method chaining in python**?\n",
        "\n",
        "Method chaining in Python is a technique where multiple methods are called on the same object in a single line of code. Each method call returns an object (typically self), allowing subsequent methods to be called on the same object.\n",
        "\n"
      ],
      "metadata": {
        "id": "XOGH5uCrIt6u"
      }
    },
    {
      "cell_type": "markdown",
      "source": [
        "Q25 **what is the purpose of call method in python**??\n",
        "\n",
        "In python the __call__ method is a special method that allows an instance of class to be called like regular function .when the __call__ method is implemented in a class, you can invoke an instance of that class using parenthis,just as a call function.\n"
      ],
      "metadata": {
        "id": "-KffsCCPJziz"
      }
    },
    {
      "cell_type": "markdown",
      "source": [
        "# **Practical Question**"
      ],
      "metadata": {
        "id": "XR9-wWsCMIXr"
      }
    },
    {
      "cell_type": "markdown",
      "source": [
        "Q1 **Create a parent class Animal with method speak() that print a generic messege .create a child class dog that override the method and print bark.**"
      ],
      "metadata": {
        "id": "X_6OnSlOMPXa"
      }
    },
    {
      "cell_type": "code",
      "source": [
        "class Animal():\n",
        "  def speak(self):\n",
        "    print(\"generic message\")\n",
        "class Dog(Animal):\n",
        "  def speak(self):\n",
        "    print(\"bark\")\n"
      ],
      "metadata": {
        "id": "BKcpeur9MtrH"
      },
      "execution_count": null,
      "outputs": []
    },
    {
      "cell_type": "code",
      "source": [
        "d1 = Dog()\n",
        "d1.speak()"
      ],
      "metadata": {
        "colab": {
          "base_uri": "https://localhost:8080/"
        },
        "id": "5GH1K8XmNRS9",
        "outputId": "c6b6bf0c-711e-4d80-b9f9-156d020d162b"
      },
      "execution_count": null,
      "outputs": [
        {
          "output_type": "stream",
          "name": "stdout",
          "text": [
            "bark\n"
          ]
        }
      ]
    },
    {
      "cell_type": "code",
      "source": [
        "animal = Animal()\n",
        "animal.speak()"
      ],
      "metadata": {
        "colab": {
          "base_uri": "https://localhost:8080/"
        },
        "id": "0yHJ3W1WNbAB",
        "outputId": "a84302d4-03c1-40bb-d3a0-314b421abfd9"
      },
      "execution_count": null,
      "outputs": [
        {
          "output_type": "stream",
          "name": "stdout",
          "text": [
            "generic message\n"
          ]
        }
      ]
    },
    {
      "cell_type": "markdown",
      "source": [
        "Q2 **write a program to create abstract class Shape with method area().Derive classes circle and rectangle from it and implement the area() method in both.**"
      ],
      "metadata": {
        "id": "Gb3wXzRiN0rd"
      }
    },
    {
      "cell_type": "code",
      "source": [
        "from abc import ABC,abstractmethod\n",
        "class Shape(ABC):\n",
        "\n",
        "  @abstractmethod\n",
        "  def area(self):\n",
        "    pass\n",
        "\n",
        "class Circle(Shape):\n",
        "  def area(self,r):\n",
        "    return 3.14*r*r\n",
        "class Rectangle(Shape):\n",
        "  def area(self,l,b):\n",
        "    return l*b\n",
        "\n"
      ],
      "metadata": {
        "id": "Y4eHiW9nO3s9"
      },
      "execution_count": null,
      "outputs": []
    },
    {
      "cell_type": "code",
      "source": [
        "circle = Circle()\n",
        "circle.area(5)"
      ],
      "metadata": {
        "colab": {
          "base_uri": "https://localhost:8080/"
        },
        "id": "xMu0UCk4Pa-E",
        "outputId": "a56c590e-5861-447d-80a6-481b3876f605"
      },
      "execution_count": null,
      "outputs": [
        {
          "output_type": "execute_result",
          "data": {
            "text/plain": [
              "78.5"
            ]
          },
          "metadata": {},
          "execution_count": 16
        }
      ]
    },
    {
      "cell_type": "code",
      "source": [
        "rectangle = Rectangle()\n",
        "rectangle.area(4,5)"
      ],
      "metadata": {
        "colab": {
          "base_uri": "https://localhost:8080/"
        },
        "id": "NYb75P7WR7DX",
        "outputId": "d424f26c-823c-4930-eea5-6882d7e07e45"
      },
      "execution_count": null,
      "outputs": [
        {
          "output_type": "execute_result",
          "data": {
            "text/plain": [
              "20"
            ]
          },
          "metadata": {},
          "execution_count": 17
        }
      ]
    },
    {
      "cell_type": "markdown",
      "source": [
        "Q3 Implement a multilevel scenario where a class Vehicle has an attribute type.Derive a class car and further class electric car that add a battery attribute."
      ],
      "metadata": {
        "id": "H-Sdw4P4SqF8"
      }
    },
    {
      "cell_type": "code",
      "source": [
        "class Vehicle():\n",
        "  def __init__(self,type_of_vehicle):\n",
        "    self.type_of_vehicle = type_of_vehicle\n",
        "class Car(Vehicle):\n",
        "  def __init__(self,type_of_vehicle,color):\n",
        "    super().__init__(type_of_vehicle)\n",
        "    self.color = color\n",
        "class ElectricCar(Car):\n",
        "  def __init__(self,type_of_vehicle,color,battery):\n",
        "    super().__init__(type_of_vehicle, color)\n",
        "    self.battery = battery"
      ],
      "metadata": {
        "id": "Xb1fIQo1Tc1m"
      },
      "execution_count": null,
      "outputs": []
    },
    {
      "cell_type": "code",
      "source": [
        "electriccar = ElectricCar(\"car\",\"red\",100)\n",
        "electriccar.battery"
      ],
      "metadata": {
        "colab": {
          "base_uri": "https://localhost:8080/"
        },
        "id": "ZxqkdH-LWmG9",
        "outputId": "49541039-a569-494b-bb2b-d0786f9b4616"
      },
      "execution_count": null,
      "outputs": [
        {
          "output_type": "execute_result",
          "data": {
            "text/plain": [
              "100"
            ]
          },
          "metadata": {},
          "execution_count": 20
        }
      ]
    },
    {
      "cell_type": "code",
      "source": [
        "car = Car(\"car\",\"red\")\n",
        "car.color"
      ],
      "metadata": {
        "colab": {
          "base_uri": "https://localhost:8080/",
          "height": 36
        },
        "id": "RsedTIaEXCLV",
        "outputId": "3b9b276e-13ff-4883-cdea-3382e864ab0f"
      },
      "execution_count": null,
      "outputs": [
        {
          "output_type": "execute_result",
          "data": {
            "text/plain": [
              "'red'"
            ],
            "application/vnd.google.colaboratory.intrinsic+json": {
              "type": "string"
            }
          },
          "metadata": {},
          "execution_count": 24
        }
      ]
    },
    {
      "cell_type": "code",
      "source": [
        "electriccar = ElectricCar(\"car\",\"red\",100)\n",
        "electriccar.color"
      ],
      "metadata": {
        "colab": {
          "base_uri": "https://localhost:8080/",
          "height": 36
        },
        "id": "LEjeY0Y8XH_O",
        "outputId": "54e57fc3-bd9e-4207-fa6e-da0da6ffeda6"
      },
      "execution_count": null,
      "outputs": [
        {
          "output_type": "execute_result",
          "data": {
            "text/plain": [
              "'red'"
            ],
            "application/vnd.google.colaboratory.intrinsic+json": {
              "type": "string"
            }
          },
          "metadata": {},
          "execution_count": 36
        }
      ]
    },
    {
      "cell_type": "code",
      "source": [
        "electriccar = ElectricCar(\"car\",\"red\",100)\n",
        "electriccar.type_of_vehicle"
      ],
      "metadata": {
        "colab": {
          "base_uri": "https://localhost:8080/",
          "height": 36
        },
        "id": "EaZQXc1jZWvm",
        "outputId": "4bcf5941-6ff7-41f9-d691-8987c34438d2"
      },
      "execution_count": null,
      "outputs": [
        {
          "output_type": "execute_result",
          "data": {
            "text/plain": [
              "'car'"
            ],
            "application/vnd.google.colaboratory.intrinsic+json": {
              "type": "string"
            }
          },
          "metadata": {},
          "execution_count": 37
        }
      ]
    },
    {
      "cell_type": "markdown",
      "source": [
        "Q4 **write a program to demonstate encapulation by creating a class BankAccount with private attribute balance and methods to deposit,withdraw and check balance.**"
      ],
      "metadata": {
        "id": "7sATcA7BZww_"
      }
    },
    {
      "cell_type": "code",
      "source": [
        "class BankAccount():\n",
        "  def __init__(self ,balance):\n",
        "    self.__balance = balance\n",
        "  def deposit(self,amount):\n",
        "    self.__balance = self.__balance + amount\n",
        "  def withdraw(self,amount):\n",
        "    if amount <= self.__balance:\n",
        "      self.__balance = self.__balance - amount\n",
        "    else:\n",
        "      print(\"insufficent balance\")\n",
        "  def get_balance(self):\n",
        "    return self.__balance\n",
        "\n"
      ],
      "metadata": {
        "id": "LC-sXStBbmh4"
      },
      "execution_count": null,
      "outputs": []
    },
    {
      "cell_type": "code",
      "source": [
        "bankaccount = BankAccount(1000)\n",
        "bankaccount.get_balance()"
      ],
      "metadata": {
        "colab": {
          "base_uri": "https://localhost:8080/"
        },
        "id": "TwYWf8jFdLWq",
        "outputId": "fa7a7836-0025-4fe8-f7a8-5d3e9c1394dc"
      },
      "execution_count": null,
      "outputs": [
        {
          "output_type": "execute_result",
          "data": {
            "text/plain": [
              "1000"
            ]
          },
          "metadata": {},
          "execution_count": 40
        }
      ]
    },
    {
      "cell_type": "code",
      "source": [
        "bankaccount.deposit(500)"
      ],
      "metadata": {
        "id": "OWvLoa1mdcjy"
      },
      "execution_count": null,
      "outputs": []
    },
    {
      "cell_type": "code",
      "source": [
        "bankaccount.withdraw(500)"
      ],
      "metadata": {
        "id": "P4uSluxGdqRC"
      },
      "execution_count": null,
      "outputs": []
    },
    {
      "cell_type": "code",
      "source": [
        "bankaccount.get_balance()"
      ],
      "metadata": {
        "colab": {
          "base_uri": "https://localhost:8080/"
        },
        "id": "NWAMxkwmdjhv",
        "outputId": "d5aac7f4-4cc7-4c9c-ceda-eced893e25b3"
      },
      "execution_count": null,
      "outputs": [
        {
          "output_type": "execute_result",
          "data": {
            "text/plain": [
              "1000"
            ]
          },
          "metadata": {},
          "execution_count": 44
        }
      ]
    },
    {
      "cell_type": "markdown",
      "source": [
        "Q5 **Demonstaract the runtime polymorphism using method play() in a base class instrument . Derive classes Guitar and piano that implement their own version of play().**"
      ],
      "metadata": {
        "id": "1pGfEkr6eJYz"
      }
    },
    {
      "cell_type": "code",
      "source": [
        "class Instrument():\n",
        "  def play(self):\n",
        "    print(\"generic play\")\n",
        "class Guitar(Instrument):\n",
        "  def play(self):\n",
        "    print(\"Guitar play\")\n",
        "class Piano(Instrument):\n",
        "  def play(self):\n",
        "    print(\"play piano\")\n",
        "def demonstrate_play(instrument: Instrument):\n",
        "    instrument.play()\n"
      ],
      "metadata": {
        "id": "TMw5hN1reuFK"
      },
      "execution_count": null,
      "outputs": []
    },
    {
      "cell_type": "code",
      "source": [
        "piano = Piano()\n",
        "guitar = Guitar()\n",
        "demonstrate_play(piano)\n",
        "demonstrate_play(guitar)\n"
      ],
      "metadata": {
        "colab": {
          "base_uri": "https://localhost:8080/"
        },
        "id": "E6l3D2iwi04V",
        "outputId": "70c68547-4e28-4a53-94d8-fd90b2f5bf82"
      },
      "execution_count": null,
      "outputs": [
        {
          "output_type": "stream",
          "name": "stdout",
          "text": [
            "play piano\n",
            "Guitar play\n"
          ]
        }
      ]
    },
    {
      "cell_type": "markdown",
      "source": [
        "Q6 **Create a class Mathoperations with a class method add_numbers() to add two numbers and a static method substract_numbers() to substract two numbers.**"
      ],
      "metadata": {
        "id": "0xof6QhFk5TH"
      }
    },
    {
      "cell_type": "code",
      "source": [
        "class MathOperations():\n",
        "  @classmethod\n",
        "  def add_numbers(cls,x,y):\n",
        "    return cls.__name__,x+y\n",
        "  @classmethod\n",
        "  def substract_numbers(cls,x,y):\n",
        "    return cls.__name__,x-y\n",
        "\n"
      ],
      "metadata": {
        "id": "9D8GPchJliDh"
      },
      "execution_count": null,
      "outputs": []
    },
    {
      "cell_type": "code",
      "source": [
        "MathOperations.add_numbers(2,3)"
      ],
      "metadata": {
        "colab": {
          "base_uri": "https://localhost:8080/"
        },
        "id": "KCx31-s2nDyZ",
        "outputId": "e1d83221-799e-40af-f475-512dfc1cc67f"
      },
      "execution_count": null,
      "outputs": [
        {
          "output_type": "execute_result",
          "data": {
            "text/plain": [
              "('MathOperations', 5)"
            ]
          },
          "metadata": {},
          "execution_count": 57
        }
      ]
    },
    {
      "cell_type": "code",
      "source": [
        "MathOperations.substract_numbers(2,3)"
      ],
      "metadata": {
        "colab": {
          "base_uri": "https://localhost:8080/"
        },
        "id": "pcQi3seanJQa",
        "outputId": "926cebc4-ea04-4e53-bea7-056f2aefc434"
      },
      "execution_count": null,
      "outputs": [
        {
          "output_type": "execute_result",
          "data": {
            "text/plain": [
              "('MathOperations', -1)"
            ]
          },
          "metadata": {},
          "execution_count": 58
        }
      ]
    },
    {
      "cell_type": "markdown",
      "source": [
        "Q7 **Implement class person with a class method to count the total number of persons created.**"
      ],
      "metadata": {
        "id": "l9UGcu4SnbIo"
      }
    },
    {
      "cell_type": "code",
      "source": [
        "class Person():\n",
        "  count = 0\n",
        "  def __init__(self,name):\n",
        "    self.name = name\n",
        "    Person.count = Person.count + 1\n",
        "  @classmethod\n",
        "  def get_count(cls):\n",
        "    return cls.count\n",
        "\n"
      ],
      "metadata": {
        "id": "mxCw_KLboSkp"
      },
      "execution_count": null,
      "outputs": []
    },
    {
      "cell_type": "code",
      "source": [
        "person = Person(\"falguni\")\n",
        "person.name"
      ],
      "metadata": {
        "colab": {
          "base_uri": "https://localhost:8080/",
          "height": 36
        },
        "id": "QDZf2AC6o0ed",
        "outputId": "2155c5da-8df5-4c2b-a4c3-d9aed2793151"
      },
      "execution_count": null,
      "outputs": [
        {
          "output_type": "execute_result",
          "data": {
            "text/plain": [
              "'falguni'"
            ],
            "application/vnd.google.colaboratory.intrinsic+json": {
              "type": "string"
            }
          },
          "metadata": {},
          "execution_count": 66
        }
      ]
    },
    {
      "cell_type": "code",
      "source": [
        "person = Person(\"Shivya\")\n",
        "person.name"
      ],
      "metadata": {
        "colab": {
          "base_uri": "https://localhost:8080/",
          "height": 36
        },
        "id": "gJx11JIqpGAw",
        "outputId": "ec033e71-0ceb-4a5b-ad02-8a41b6cf6934"
      },
      "execution_count": null,
      "outputs": [
        {
          "output_type": "execute_result",
          "data": {
            "text/plain": [
              "'Shivya'"
            ],
            "application/vnd.google.colaboratory.intrinsic+json": {
              "type": "string"
            }
          },
          "metadata": {},
          "execution_count": 67
        }
      ]
    },
    {
      "cell_type": "code",
      "source": [
        "Person.get_count()"
      ],
      "metadata": {
        "colab": {
          "base_uri": "https://localhost:8080/"
        },
        "id": "zA1XfoTcpkOS",
        "outputId": "96407d6d-fcb7-4c29-ba9d-c0875cc91269"
      },
      "execution_count": null,
      "outputs": [
        {
          "output_type": "execute_result",
          "data": {
            "text/plain": [
              "5"
            ]
          },
          "metadata": {},
          "execution_count": 70
        }
      ]
    },
    {
      "cell_type": "markdown",
      "source": [
        "Q8 **Write a class fraction with attributes numerator and denominator .override the str method to disply the fraction as \"numerator/denominator\"**."
      ],
      "metadata": {
        "id": "TSYoyBhy9IyM"
      }
    },
    {
      "cell_type": "code",
      "source": [
        "class Fraction :\n",
        "  def __init__ (self, numerator, denominator):\n",
        "    self.numerator = numerator\n",
        "    self.denominator = denominator\n",
        "  def __str__ (self):\n",
        "     return f\"{self.numerator}/{self.denominator}\""
      ],
      "metadata": {
        "id": "sH2AvHiP-LVp"
      },
      "execution_count": null,
      "outputs": []
    },
    {
      "cell_type": "code",
      "source": [
        "fraction = Fraction(1,2)"
      ],
      "metadata": {
        "id": "_CtUdkhvAKEy"
      },
      "execution_count": null,
      "outputs": []
    },
    {
      "cell_type": "code",
      "source": [
        "print(fraction)"
      ],
      "metadata": {
        "colab": {
          "base_uri": "https://localhost:8080/"
        },
        "id": "IwE7MGdIAPvm",
        "outputId": "8410f8fa-1e5d-47a8-ba43-99e92e956bd5"
      },
      "execution_count": null,
      "outputs": [
        {
          "output_type": "stream",
          "name": "stdout",
          "text": [
            "1/2\n"
          ]
        }
      ]
    },
    {
      "cell_type": "markdown",
      "source": [
        "Q9 **Demonstate a operator overloading by creating a class vector and overriding the add method to add two vecotrs.**"
      ],
      "metadata": {
        "id": "2BbW3Ni6BxHG"
      }
    },
    {
      "cell_type": "code",
      "source": [
        "class Vector:\n",
        "  def __init__(self,x,y):\n",
        "    self.x = x\n",
        "    self.y = y\n",
        "  def __add__(self,other):\n",
        "    return Vector(self.x + other.x,self.y + other.y)\n",
        "  def __str__(self):\n",
        "    return f\"({self.x}, {self.y})\"\n"
      ],
      "metadata": {
        "id": "ef8HtoZeMoS5"
      },
      "execution_count": null,
      "outputs": []
    },
    {
      "cell_type": "code",
      "source": [
        "vector1 = Vector(1,2)\n",
        "vector2 = Vector(3,4)\n",
        "result = vector1 + vector2"
      ],
      "metadata": {
        "id": "PG-YNtU0SdDt"
      },
      "execution_count": null,
      "outputs": []
    },
    {
      "cell_type": "code",
      "source": [
        "print(result)"
      ],
      "metadata": {
        "colab": {
          "base_uri": "https://localhost:8080/"
        },
        "id": "vnbgrzhxUOQV",
        "outputId": "88146a0f-bfb1-4a07-bcba-3b7a1acdbc84"
      },
      "execution_count": null,
      "outputs": [
        {
          "output_type": "stream",
          "name": "stdout",
          "text": [
            "(4, 6)\n"
          ]
        }
      ]
    },
    {
      "cell_type": "markdown",
      "source": [
        "Q10 **Create a class person with attributes name and age .Add a method greet() that prints \"Hello,my name is {name} and I am {age} years old\"**"
      ],
      "metadata": {
        "id": "LAD8zQyZYRxO"
      }
    },
    {
      "cell_type": "code",
      "source": [
        "class Person:\n",
        "  def __init__(self,name,age):\n",
        "    self.name = name\n",
        "    self.age =  age\n",
        "  def greet(self):\n",
        "    print(f\"Hello,my name is {self.name} and I am {self.age} years old\")"
      ],
      "metadata": {
        "id": "Jnko_5YLbqwa"
      },
      "execution_count": null,
      "outputs": []
    },
    {
      "cell_type": "code",
      "source": [
        "person = Person(\"falguni\" , 30)"
      ],
      "metadata": {
        "id": "7qZ9pfi0crrp"
      },
      "execution_count": null,
      "outputs": []
    },
    {
      "cell_type": "code",
      "source": [
        "person.greet()"
      ],
      "metadata": {
        "colab": {
          "base_uri": "https://localhost:8080/"
        },
        "id": "JftXcSvbcyR2",
        "outputId": "55c0be80-9a1f-4b87-ebcf-0a282c5d3d68"
      },
      "execution_count": null,
      "outputs": [
        {
          "output_type": "stream",
          "name": "stdout",
          "text": [
            "Hello,my name is falguni and I am 30 years old\n"
          ]
        }
      ]
    },
    {
      "cell_type": "markdown",
      "source": [
        "Q11 **Implement a class student with attributes name and grades.Create a method average_grade()to compute the average of the grades.**"
      ],
      "metadata": {
        "id": "wXQcLSsbfeiX"
      }
    },
    {
      "cell_type": "code",
      "source": [
        "class Student:\n",
        "  def __init__(self,name,grades):\n",
        "    self.name = name\n",
        "    self.grades = grades\n",
        "  def average_grade(self):\n",
        "    return sum(self.grades)/len(self.grades)"
      ],
      "metadata": {
        "id": "tRo0WTAGiYWj"
      },
      "execution_count": null,
      "outputs": []
    },
    {
      "cell_type": "code",
      "source": [
        "student = Student(\"falguni\",[90,80,95,95,80])"
      ],
      "metadata": {
        "id": "iT3epBhBluhJ"
      },
      "execution_count": null,
      "outputs": []
    },
    {
      "cell_type": "code",
      "source": [
        "student.average_grade()"
      ],
      "metadata": {
        "colab": {
          "base_uri": "https://localhost:8080/"
        },
        "id": "-CM9CVRqmbOI",
        "outputId": "a515ccea-9657-48d9-cdeb-59df3e83cac8"
      },
      "execution_count": null,
      "outputs": [
        {
          "output_type": "execute_result",
          "data": {
            "text/plain": [
              "88.0"
            ]
          },
          "metadata": {},
          "execution_count": 45
        }
      ]
    },
    {
      "cell_type": "markdown",
      "source": [
        "Q12 **Create a class Rectangle with methods set_dimensions() to set the dimensions and area() to calculate the area.**"
      ],
      "metadata": {
        "id": "oNI6MuJSomzl"
      }
    },
    {
      "cell_type": "code",
      "source": [
        "class Rectangle:\n",
        "  def __init__(self,Length,Breath):\n",
        "    self.Length = None\n",
        "    self.Breath = None\n",
        "  def set_dimensions(self,Length,Breath):\n",
        "    self.Length = Length\n",
        "    self.Breath = Breath\n",
        "  def area(self):\n",
        "    if self.Length is not None and self.Breath is not None:\n",
        "      return self.Length * self.Breath\n",
        "    else:\n",
        "      return None"
      ],
      "metadata": {
        "id": "b9DxzbuZrNXe"
      },
      "execution_count": null,
      "outputs": []
    },
    {
      "cell_type": "code",
      "source": [
        "rectangle = Rectangle(None,None)\n",
        "rectangle.set_dimensions(4,5)"
      ],
      "metadata": {
        "id": "NX16jBhawYS7"
      },
      "execution_count": null,
      "outputs": []
    },
    {
      "cell_type": "code",
      "source": [
        "rectangle.area()"
      ],
      "metadata": {
        "colab": {
          "base_uri": "https://localhost:8080/"
        },
        "id": "bvuUXfDzw1O-",
        "outputId": "84d05935-434c-4a8a-f8fe-8d9893e278a9"
      },
      "execution_count": null,
      "outputs": [
        {
          "output_type": "execute_result",
          "data": {
            "text/plain": [
              "20"
            ]
          },
          "metadata": {},
          "execution_count": 51
        }
      ]
    },
    {
      "cell_type": "markdown",
      "source": [
        "Q13 **Create a class Employee with a method calculate_salary() that compute the salary based on hours worked and hourly rate .Create a derived class manager that managar that adds a bonus to the salary.**"
      ],
      "metadata": {
        "id": "_drMiZFaMHjU"
      }
    },
    {
      "cell_type": "code",
      "source": [
        "class Employee:\n",
        "   def __init__ (self,name,hours_worked,hourly_rate):\n",
        "    self.name = name\n",
        "    self.hours_worked = hours_worked\n",
        "    self.hourly_rate = hourly_rate\n",
        "   def calculate_salary(self):\n",
        "    salary = self.hours_worked * self.hourly_rate\n",
        "    return salary\n",
        "class Manager(Employee):\n",
        "  def __init__(self,name,hours_worked,hourly_rate,bonus):\n",
        "    super().__init__(name,hours_worked,hourly_rate)\n",
        "    self.bonus = bonus\n",
        "  def calculate_salary(self):\n",
        "    base_salary = super().calculate_salary()\n",
        "    Total_salary =  base_salary + self.bonus\n",
        "    return Total_salary\n"
      ],
      "metadata": {
        "id": "6TbTysjvNB2k"
      },
      "execution_count": null,
      "outputs": []
    },
    {
      "cell_type": "code",
      "source": [
        "employee = Employee(\"falguni\",180,20)"
      ],
      "metadata": {
        "id": "DNL7a1HqVGcq"
      },
      "execution_count": null,
      "outputs": []
    },
    {
      "cell_type": "code",
      "source": [
        "employee.calculate_salary()"
      ],
      "metadata": {
        "colab": {
          "base_uri": "https://localhost:8080/"
        },
        "id": "fcnffvgVVS1o",
        "outputId": "237966e4-2d5f-4531-d09d-355b7219674a"
      },
      "execution_count": null,
      "outputs": [
        {
          "output_type": "execute_result",
          "data": {
            "text/plain": [
              "560"
            ]
          },
          "metadata": {},
          "execution_count": 15
        }
      ]
    },
    {
      "cell_type": "markdown",
      "source": [
        "Q14 **Create a class Product with attributes name, price,and quantity.Impliment a method total_price () that calculates the total price of the product**."
      ],
      "metadata": {
        "id": "H5IVLXZKfRKT"
      }
    },
    {
      "cell_type": "code",
      "source": [
        "class Product:\n",
        "  def __init__(self,name,price,quantity):\n",
        "    self.name = name\n",
        "    self.price = price\n",
        "    self.quantity = quantity\n",
        "  def total_price(self):\n",
        "    return self.price * self.quantity"
      ],
      "metadata": {
        "id": "uYtGjNl6gA0r"
      },
      "execution_count": null,
      "outputs": []
    },
    {
      "cell_type": "code",
      "source": [
        "product = Product(\"pen\",20,2)\n",
        "product.total_price()"
      ],
      "metadata": {
        "colab": {
          "base_uri": "https://localhost:8080/"
        },
        "id": "-ymAU2e8giNV",
        "outputId": "c1a08bbd-1590-447c-e224-06d4419ccf61"
      },
      "execution_count": null,
      "outputs": [
        {
          "output_type": "execute_result",
          "data": {
            "text/plain": [
              "40"
            ]
          },
          "metadata": {},
          "execution_count": 18
        }
      ]
    },
    {
      "cell_type": "markdown",
      "source": [
        "Q15 **Create a class Animal with an abstract method sound().Create two derived classes Cow and Sheep that implement the sound() method**."
      ],
      "metadata": {
        "id": "8SsFiV4fg4B6"
      }
    },
    {
      "cell_type": "code",
      "source": [
        "from abc import ABC,abstractmethod\n",
        "class Animal(ABC):\n",
        "  @abstractmethod\n",
        "  def sound(self):\n",
        "    pass\n",
        "class Cow(Animal):\n",
        "  def sound(self):\n",
        "    return \"Moo\"\n",
        "class Sheep(Animal):\n",
        "  def sound(self):\n",
        "    return \"Baa\""
      ],
      "metadata": {
        "id": "SWHeeo64icyR"
      },
      "execution_count": null,
      "outputs": []
    },
    {
      "cell_type": "code",
      "source": [
        "cow = Cow()\n",
        "cow.sound()"
      ],
      "metadata": {
        "colab": {
          "base_uri": "https://localhost:8080/",
          "height": 36
        },
        "id": "Hh09zMwkjfJi",
        "outputId": "9969e2cc-f09f-45b6-9a9e-7752c26f28ed"
      },
      "execution_count": null,
      "outputs": [
        {
          "output_type": "execute_result",
          "data": {
            "text/plain": [
              "'Moo'"
            ],
            "application/vnd.google.colaboratory.intrinsic+json": {
              "type": "string"
            }
          },
          "metadata": {},
          "execution_count": 22
        }
      ]
    },
    {
      "cell_type": "markdown",
      "source": [
        "Q16 **Create a class Book with attributes title ,author,and year_published.Add a method get_book_info() that returns  a formatted string with the book's details.**"
      ],
      "metadata": {
        "id": "FQsczmFHkPGZ"
      }
    },
    {
      "cell_type": "code",
      "source": [
        "class Book:\n",
        "  def __init__(self,title,author,year_published):\n",
        "    self.title = title\n",
        "    self.author = author\n",
        "    self.year_published = year_published\n",
        "  def get_book_info(self):\n",
        "    return f\"title:{self.title}\\nauthor:{self.author}\\nyear_published:{self.year_published}\"\n"
      ],
      "metadata": {
        "id": "IBTjEZg0kxYL"
      },
      "execution_count": null,
      "outputs": []
    },
    {
      "cell_type": "code",
      "source": [
        "book = Book(\"Ek Samandar Mere Andar\",\"Sanjiv joshi\",2024)\n",
        "print(book.get_book_info())"
      ],
      "metadata": {
        "colab": {
          "base_uri": "https://localhost:8080/"
        },
        "id": "23loDvRml4UJ",
        "outputId": "b3b0c3c2-61d2-410f-aee3-88465b5b95ab"
      },
      "execution_count": null,
      "outputs": [
        {
          "output_type": "stream",
          "name": "stdout",
          "text": [
            "title:Ek Samandar Mere Andar\n",
            "author:Sanjiv joshi\n",
            "year_published:2024\n"
          ]
        }
      ]
    },
    {
      "cell_type": "markdown",
      "source": [
        "Q17 **Create class House with attributes address and price. Create a derived class Mansion that adds on attribute number_of_rooms.**"
      ],
      "metadata": {
        "id": "FS2bHyX6oNTw"
      }
    },
    {
      "cell_type": "code",
      "source": [
        "class House:\n",
        "  def __init__ (self,address,price):\n",
        "    self.address = address\n",
        "    self.price = price\n",
        "  def get_house_info(self):\n",
        "        return f\"Address: {self.address}\\nPrice: ${self.price}\"\n",
        "class Mansion(House):\n",
        "  def __init__(self,address,price,number_of_room):\n",
        "    super().__init__(address,price)\n",
        "    self.number_of_room = number_of_room\n",
        "  def get_mansion_info(self):\n",
        "    house_info = super().get_house_info()\n",
        "    return f\"{house_info}\\nNumber of Rooms: {self.number_of_room}\"\n",
        "\n",
        "\n"
      ],
      "metadata": {
        "id": "1y6IYtNno_Xd"
      },
      "execution_count": 1,
      "outputs": []
    },
    {
      "cell_type": "code",
      "source": [
        "house = House(\"ahmedabad\",250000)\n",
        "house.get_house_info()\n",
        "print(house.get_house_info())"
      ],
      "metadata": {
        "colab": {
          "base_uri": "https://localhost:8080/"
        },
        "id": "nxUqGY1UraMu",
        "outputId": "58a99077-3308-4f05-9061-54227ed51c0e"
      },
      "execution_count": 2,
      "outputs": [
        {
          "output_type": "stream",
          "name": "stdout",
          "text": [
            "Address: ahmedabad\n",
            "Price: $250000\n"
          ]
        }
      ]
    },
    {
      "cell_type": "code",
      "source": [
        "mansion = Mansion(\"ahmedabad\",250000,4)\n",
        "mansion.get_mansion_info()\n",
        "print(mansion.get_mansion_info())"
      ],
      "metadata": {
        "colab": {
          "base_uri": "https://localhost:8080/"
        },
        "id": "finjyrYxtS8R",
        "outputId": "08aeba70-98df-482c-e9a6-b4efe53a07d2"
      },
      "execution_count": 4,
      "outputs": [
        {
          "output_type": "stream",
          "name": "stdout",
          "text": [
            "Address: ahmedabad\n",
            "Price: $250000\n",
            "Number of Rooms: 4\n"
          ]
        }
      ]
    }
  ]
}